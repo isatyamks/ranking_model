{
 "cells": [
  {
   "cell_type": "code",
   "execution_count": 2,
   "metadata": {},
   "outputs": [],
   "source": [
    "import re\n",
    "from collections import defaultdict\n",
    "\n"
   ]
  },
  {
   "cell_type": "code",
   "execution_count": 3,
   "metadata": {},
   "outputs": [],
   "source": [
    "def parse_employer_data(filename):\n",
    "    \"\"\"Parse employer details from the file.\"\"\"\n",
    "    with open(filename, 'r') as file:\n",
    "        data = file.read().strip()\n",
    "    employers = data.split(\"________________\")\n",
    "    employer_list = []\n",
    "    \n",
    "    for emp in employers:\n",
    "        employer = {}\n",
    "        lines = emp.strip().split(\"\\n\")\n",
    "        employer['JobTitle'] = lines[1].strip()\n",
    "        employer['Description'] = \" \".join(lines[3:]).strip()\n",
    "        \n",
    "        # Extract specific details\n",
    "        for line in lines:\n",
    "            if \"Salary\" in line:\n",
    "                employer['Salary'] = line.split(\":\")[1].strip()\n",
    "            if \"Experience\" in line:\n",
    "                employer['Experience'] = re.findall(r'\\d+', line)\n",
    "            if \"Skills\" in line:\n",
    "                employer['Skills'] = [skill.strip() for skill in line.split(\":\")[1].split(\",\")]\n",
    "            if \"Location\" in line:\n",
    "                employer['Location'] = line.split(\":\")[1].strip()\n",
    "        \n",
    "        employer_list.append(employer)\n",
    "    return employer_list\n",
    "\n",
    "\n"
   ]
  },
  {
   "cell_type": "code",
   "execution_count": 4,
   "metadata": {},
   "outputs": [],
   "source": [
    "def parse_candidate_data(filename):\n",
    "    \"\"\"Parse candidate details from the file.\"\"\"\n",
    "    with open(filename, 'r') as file:\n",
    "        data = file.read().strip()\n",
    "    candidates = data.split(\"________________\")\n",
    "    candidate_list = []\n",
    "    \n",
    "    for cand in candidates:\n",
    "        candidate = {}\n",
    "        lines = cand.strip().split(\"\\n\")\n",
    "        candidate['Name'] = lines[0].strip()\n",
    "        candidate['Details'] = \" \".join(lines[1:]).strip()\n",
    "        \n",
    "        # Extract specific details\n",
    "        for line in lines:\n",
    "            if \"Salary desired\" in line:\n",
    "                candidate['Salary'] = re.findall(r'\\d+', line)\n",
    "            if \"Skills\" in line:\n",
    "                candidate['Skills'] = [skill.strip() for skill in line.split(\":\")[1].split(\",\")]\n",
    "            if \"Location\" in line:\n",
    "                candidate['Location'] = line.split(\":\")[1].strip()\n",
    "        \n",
    "        candidate_list.append(candidate)\n",
    "    return candidate_list\n",
    "\n",
    "def calculate_match(employer, candidate):\n",
    "    \"\"\"Calculate match score between employer and candidate.\"\"\"\n",
    "    # Skills Match\n",
    "    skills_match = len(set(employer['Skills']).intersection(set(candidate.get('Skills', [])))) / len(employer['Skills'])\n",
    "    \n",
    "    # Location Match\n",
    "    location_match = 1 if employer['Location'] == candidate.get('Location', '') else 0.5\n",
    "    \n",
    "    # Salary Match\n",
    "    salary_match = 1 if int(candidate.get('Salary', [0])[0]) <= int(employer['Salary'].split('-')[1]) else 0\n",
    "    \n",
    "    # Experience Match\n",
    "    experience_match = 1  # Example: To refine\n",
    "    \n",
    "    # Weighted Score\n",
    "    total_score = 0.4 * skills_match + 0.3 * location_match + 0.2 * salary_match + 0.1 * experience_match\n",
    "    return total_score\n",
    "\n"
   ]
  },
  {
   "cell_type": "code",
   "execution_count": 5,
   "metadata": {},
   "outputs": [],
   "source": [
    "def rank_candidates(employers, candidates):\n",
    "    rankings = defaultdict(list)\n",
    "    \n",
    "    for employer in employers:\n",
    "        for candidate in candidates:\n",
    "            score = calculate_match(employer, candidate)\n",
    "            score  = 0.4 * skills_match + 0.3 * location_match + 0.2 * salary_match + 0.2* \n",
    "            \n",
    "            \n",
    "            rankings[employer['JobTitle']].append((candidate['Name'], score))\n",
    "        rankings[employer['JobTitle']].sort(key=lambda x: x[1], reverse=True)\n",
    "    return rankings\n",
    "\n"
   ]
  },
  {
   "cell_type": "code",
   "execution_count": null,
   "metadata": {},
   "outputs": [
    {
     "ename": "IndexError",
     "evalue": "list index out of range",
     "output_type": "error",
     "traceback": [
      "\u001b[1;31m---------------------------------------------------------------------------\u001b[0m",
      "\u001b[1;31mIndexError\u001b[0m                                Traceback (most recent call last)",
      "Cell \u001b[1;32mIn[6], line 1\u001b[0m\n\u001b[1;32m----> 1\u001b[0m employers \u001b[38;5;241m=\u001b[39m \u001b[43mparse_employer_data\u001b[49m\u001b[43m(\u001b[49m\u001b[38;5;124;43m\"\u001b[39;49m\u001b[38;5;124;43m..//data//Employer Profiles.txt\u001b[39;49m\u001b[38;5;124;43m\"\u001b[39;49m\u001b[43m)\u001b[49m\n\u001b[0;32m      2\u001b[0m candidates \u001b[38;5;241m=\u001b[39m parse_candidate_data(\u001b[38;5;124m\"\u001b[39m\u001b[38;5;124m..//data//Candidate Profiles.txt\u001b[39m\u001b[38;5;124m\"\u001b[39m)\n",
      "Cell \u001b[1;32mIn[3], line 17\u001b[0m, in \u001b[0;36mparse_employer_data\u001b[1;34m(filename)\u001b[0m\n\u001b[0;32m     15\u001b[0m \u001b[38;5;28;01mfor\u001b[39;00m line \u001b[38;5;129;01min\u001b[39;00m lines:\n\u001b[0;32m     16\u001b[0m     \u001b[38;5;28;01mif\u001b[39;00m \u001b[38;5;124m\"\u001b[39m\u001b[38;5;124mSalary\u001b[39m\u001b[38;5;124m\"\u001b[39m \u001b[38;5;129;01min\u001b[39;00m line:\n\u001b[1;32m---> 17\u001b[0m         employer[\u001b[38;5;124m'\u001b[39m\u001b[38;5;124mSalary\u001b[39m\u001b[38;5;124m'\u001b[39m] \u001b[38;5;241m=\u001b[39m \u001b[43mline\u001b[49m\u001b[38;5;241;43m.\u001b[39;49m\u001b[43msplit\u001b[49m\u001b[43m(\u001b[49m\u001b[38;5;124;43m\"\u001b[39;49m\u001b[38;5;124;43m:\u001b[39;49m\u001b[38;5;124;43m\"\u001b[39;49m\u001b[43m)\u001b[49m\u001b[43m[\u001b[49m\u001b[38;5;241;43m1\u001b[39;49m\u001b[43m]\u001b[49m\u001b[38;5;241m.\u001b[39mstrip()\n\u001b[0;32m     18\u001b[0m     \u001b[38;5;28;01mif\u001b[39;00m \u001b[38;5;124m\"\u001b[39m\u001b[38;5;124mExperience\u001b[39m\u001b[38;5;124m\"\u001b[39m \u001b[38;5;129;01min\u001b[39;00m line:\n\u001b[0;32m     19\u001b[0m         employer[\u001b[38;5;124m'\u001b[39m\u001b[38;5;124mExperience\u001b[39m\u001b[38;5;124m'\u001b[39m] \u001b[38;5;241m=\u001b[39m re\u001b[38;5;241m.\u001b[39mfindall(\u001b[38;5;124mr\u001b[39m\u001b[38;5;124m'\u001b[39m\u001b[38;5;124m\\\u001b[39m\u001b[38;5;124md+\u001b[39m\u001b[38;5;124m'\u001b[39m, line)\n",
      "\u001b[1;31mIndexError\u001b[0m: list index out of range"
     ]
    }
   ],
   "source": [
    "ranking.append(item) if item in (rank_candidates)else none \n",
    "\n",
    "\n",
    "employers = parse_employer_data(\"..//data//Employer Profiles.txt\")\n",
    "\n",
    "candidates = parse_candidate_data(\"..//data//Candidate Profiles.txt\")\n"
   ]
  },
  {
   "cell_type": "code",
   "execution_count": null,
   "metadata": {},
   "outputs": [],
   "source": [
    "\n",
    "rankings = rank_candidates(employers, candidates)\n",
    "\n",
    "# Output results\n",
    "for job, ranked_candidates in rankings.items():\n",
    "    print(f\"Job: {job}\")\n",
    "    for name, score in ranked_candidates:\n",
    "        print(f\"  Candidate: {name}, Score: {score:.2f}\")"
   ]
  }
 ],
 "metadata": {
  "kernelspec": {
   "display_name": "Python 3",
   "language": "python",
   "name": "python3"
  },
  "language_info": {
   "codemirror_mode": {
    "name": "ipython",
    "version": 3
   },
   "file_extension": ".py",
   "mimetype": "text/x-python",
   "name": "python",
   "nbconvert_exporter": "python",
   "pygments_lexer": "ipython3",
   "version": "3.12.4"
  }
 },
 "nbformat": 4,
 "nbformat_minor": 2
}
